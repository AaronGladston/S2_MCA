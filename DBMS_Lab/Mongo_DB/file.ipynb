{
 "cells": [
  {
   "cell_type": "code",
   "execution_count": 10,
   "metadata": {},
   "outputs": [],
   "source": [
    "import pymongo\n",
    "conn = pymongo.MongoClient(\"mongodb://localhost:27017/\")\n",
    "db = conn[\"mydatabase\"]\n",
    "col = db[\"student\"]"
   ]
  },
  {
   "cell_type": "code",
   "execution_count": 11,
   "metadata": {},
   "outputs": [
    {
     "name": "stdout",
     "output_type": "stream",
     "text": [
      "{'_id': ObjectId('67e22b0ecd2264e2a6394c46'), 'Name': 'Aishu', 'Age': '21', 'Place': 'Trivandrum'}\n"
     ]
    }
   ],
   "source": [
    "var = col.find({\"Age\":\"21\"})\n",
    "for i in var:\n",
    "    print(i) "
   ]
  },
  {
   "cell_type": "code",
   "execution_count": 12,
   "metadata": {},
   "outputs": [
    {
     "data": {
      "text/plain": [
       "UpdateResult({'n': 0, 'nModified': 0, 'ok': 1.0, 'updatedExisting': False}, acknowledged=True)"
      ]
     },
     "execution_count": 12,
     "metadata": {},
     "output_type": "execute_result"
    }
   ],
   "source": [
    "cond = {\"Age\":21}\n",
    "newvalue = {\"$set\":{\"Place\":\"Palakkad\"}}\n",
    "col.update_many(cond,newvalue)"
   ]
  }
 ],
 "metadata": {
  "kernelspec": {
   "display_name": "Python 3",
   "language": "python",
   "name": "python3"
  },
  "language_info": {
   "codemirror_mode": {
    "name": "ipython",
    "version": 3
   },
   "file_extension": ".py",
   "mimetype": "text/x-python",
   "name": "python",
   "nbconvert_exporter": "python",
   "pygments_lexer": "ipython3",
   "version": "3.12.7"
  }
 },
 "nbformat": 4,
 "nbformat_minor": 2
}
